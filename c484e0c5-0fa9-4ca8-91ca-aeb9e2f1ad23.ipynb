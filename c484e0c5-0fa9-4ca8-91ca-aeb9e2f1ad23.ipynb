{
 "cells": [
  {
   "cell_type": "markdown",
   "metadata": {},
   "source": [
    "# Análisis de Tendencias de Ventas de Videojuegos para Planificación de Campañas Publicitarias"
   ]
  },
  {
   "cell_type": "markdown",
   "metadata": {},
   "source": [
    "# Introducción\n",
    "\n",
    "## Descripción del Proyecto:\n",
    "\n",
    "En este proyecto, abordaremos la tarea de analizar datos de ventas de videojuegos para la tienda en línea \"Ice\", que opera a nivel mundial. La tienda Ice vende una amplia variedad de videojuegos y busca identificar patrones que permitan determinar si un juego tendrá éxito o no. Esto es esencial para tomar decisiones informadas sobre la selección de proyectos prometedores y planificación de campañas publicitarias efectivas.\n",
    "\n",
    "### Contenido\n",
    "\n",
    "A lo largo de este proyecto, seguiremos una serie de pasos para lograr nuestros objetivos:\n",
    "\n",
    "1. [Carga y Preparación de Datos](#carga-y-preparacion-de-datos): Comenzaremos por abrir el archivo de datos, estudiar su estructura y realizar las transformaciones necesarias, como cambiar los nombres de las columnas y tratar los valores ausentes.\n",
    "\n",
    "2. [Análisis de Datos](#analisis-de-datos): Realizaremos un análisis exhaustivo de los datos, investigando aspectos como las ventas por plataforma, la influencia de las reseñas en las ventas y la distribución de géneros de juegos.\n",
    "\n",
    "3. [Perfil de Usuario por Región](#perfil-de-usuario-por-region): Crearemos perfiles de usuario para diferentes regiones (Norteamérica, Europa y Japón), identificando las plataformas y géneros más populares y evaluando la influencia de las clasificaciones de ESRB en las ventas regionales.\n",
    "\n",
    "4. [Pruebas de Hipótesis](#pruebas-de-hipotesis): Formularemos y probaremos hipótesis.\n",
    "\n",
    "5. [Conclusiones Generales](#conclusiones-generales): Resumiremos los hallazgos clave y proporcionaremos recomendaciones basadas en el análisis de datos.\n",
    "\n",
    "{[]\n"
   ]
  },
  {
   "cell_type": "markdown",
   "metadata": {},
   "source": [
    "### Carga y preparación de Datos <a id='carga-y-preparacion-de-datos'></a>"
   ]
  },
  {
   "cell_type": "code",
   "execution_count": 46,
   "metadata": {},
   "outputs": [],
   "source": [
    "# Cargar todas las librerías\n",
    "\n",
    "import pandas as pd\n",
    "import numpy as np\n",
    "import matplotlib.pyplot as plt\n",
    "import seaborn as sns\n",
    "from scipy.stats import ttest_ind, pearsonr\n",
    "import scipy.stats as stats\n",
    "from datetime import datetime\n",
    "from scipy import stats\n",
    "\n",
    "\n"
   ]
  },
  {
   "cell_type": "code",
   "execution_count": 47,
   "metadata": {},
   "outputs": [],
   "source": [
    "# Cargar el archivo de datos\n",
    "data = pd.read_csv(\"/datasets/games.csv\")"
   ]
  },
  {
   "cell_type": "markdown",
   "metadata": {},
   "source": [
    "#### Verificación"
   ]
  },
  {
   "cell_type": "code",
   "execution_count": 48,
   "metadata": {},
   "outputs": [
    {
     "data": {
      "text/html": [
       "<div>\n",
       "<style scoped>\n",
       "    .dataframe tbody tr th:only-of-type {\n",
       "        vertical-align: middle;\n",
       "    }\n",
       "\n",
       "    .dataframe tbody tr th {\n",
       "        vertical-align: top;\n",
       "    }\n",
       "\n",
       "    .dataframe thead th {\n",
       "        text-align: right;\n",
       "    }\n",
       "</style>\n",
       "<table border=\"1\" class=\"dataframe\">\n",
       "  <thead>\n",
       "    <tr style=\"text-align: right;\">\n",
       "      <th></th>\n",
       "      <th>Name</th>\n",
       "      <th>Platform</th>\n",
       "      <th>Year_of_Release</th>\n",
       "      <th>Genre</th>\n",
       "      <th>NA_sales</th>\n",
       "      <th>EU_sales</th>\n",
       "      <th>JP_sales</th>\n",
       "      <th>Other_sales</th>\n",
       "      <th>Critic_Score</th>\n",
       "      <th>User_Score</th>\n",
       "      <th>Rating</th>\n",
       "    </tr>\n",
       "  </thead>\n",
       "  <tbody>\n",
       "    <tr>\n",
       "      <th>0</th>\n",
       "      <td>Wii Sports</td>\n",
       "      <td>Wii</td>\n",
       "      <td>2006.0</td>\n",
       "      <td>Sports</td>\n",
       "      <td>41.36</td>\n",
       "      <td>28.96</td>\n",
       "      <td>3.77</td>\n",
       "      <td>8.45</td>\n",
       "      <td>76.0</td>\n",
       "      <td>8</td>\n",
       "      <td>E</td>\n",
       "    </tr>\n",
       "    <tr>\n",
       "      <th>1</th>\n",
       "      <td>Super Mario Bros.</td>\n",
       "      <td>NES</td>\n",
       "      <td>1985.0</td>\n",
       "      <td>Platform</td>\n",
       "      <td>29.08</td>\n",
       "      <td>3.58</td>\n",
       "      <td>6.81</td>\n",
       "      <td>0.77</td>\n",
       "      <td>NaN</td>\n",
       "      <td>NaN</td>\n",
       "      <td>NaN</td>\n",
       "    </tr>\n",
       "    <tr>\n",
       "      <th>2</th>\n",
       "      <td>Mario Kart Wii</td>\n",
       "      <td>Wii</td>\n",
       "      <td>2008.0</td>\n",
       "      <td>Racing</td>\n",
       "      <td>15.68</td>\n",
       "      <td>12.76</td>\n",
       "      <td>3.79</td>\n",
       "      <td>3.29</td>\n",
       "      <td>82.0</td>\n",
       "      <td>8.3</td>\n",
       "      <td>E</td>\n",
       "    </tr>\n",
       "    <tr>\n",
       "      <th>3</th>\n",
       "      <td>Wii Sports Resort</td>\n",
       "      <td>Wii</td>\n",
       "      <td>2009.0</td>\n",
       "      <td>Sports</td>\n",
       "      <td>15.61</td>\n",
       "      <td>10.93</td>\n",
       "      <td>3.28</td>\n",
       "      <td>2.95</td>\n",
       "      <td>80.0</td>\n",
       "      <td>8</td>\n",
       "      <td>E</td>\n",
       "    </tr>\n",
       "    <tr>\n",
       "      <th>4</th>\n",
       "      <td>Pokemon Red/Pokemon Blue</td>\n",
       "      <td>GB</td>\n",
       "      <td>1996.0</td>\n",
       "      <td>Role-Playing</td>\n",
       "      <td>11.27</td>\n",
       "      <td>8.89</td>\n",
       "      <td>10.22</td>\n",
       "      <td>1.00</td>\n",
       "      <td>NaN</td>\n",
       "      <td>NaN</td>\n",
       "      <td>NaN</td>\n",
       "    </tr>\n",
       "  </tbody>\n",
       "</table>\n",
       "</div>"
      ],
      "text/plain": [
       "                       Name Platform  Year_of_Release         Genre  NA_sales  \\\n",
       "0                Wii Sports      Wii           2006.0        Sports     41.36   \n",
       "1         Super Mario Bros.      NES           1985.0      Platform     29.08   \n",
       "2            Mario Kart Wii      Wii           2008.0        Racing     15.68   \n",
       "3         Wii Sports Resort      Wii           2009.0        Sports     15.61   \n",
       "4  Pokemon Red/Pokemon Blue       GB           1996.0  Role-Playing     11.27   \n",
       "\n",
       "   EU_sales  JP_sales  Other_sales  Critic_Score User_Score Rating  \n",
       "0     28.96      3.77         8.45          76.0          8      E  \n",
       "1      3.58      6.81         0.77           NaN        NaN    NaN  \n",
       "2     12.76      3.79         3.29          82.0        8.3      E  \n",
       "3     10.93      3.28         2.95          80.0          8      E  \n",
       "4      8.89     10.22         1.00           NaN        NaN    NaN  "
      ]
     },
     "execution_count": 48,
     "metadata": {},
     "output_type": "execute_result"
    }
   ],
   "source": [
    "data.head()"
   ]
  },
  {
   "cell_type": "markdown",
   "metadata": {},
   "source": [
    "El conjunto de datos contiene información sobre videojuegos, incluyendo detalles como el nombre, plataforma, año de lanzamiento, género, ventas en diferentes regiones, puntuaciones de críticos y usuarios, y clasificación de contenido. Es importante destacar que se observan valores faltantes en algunas columnas, como las puntuaciones de críticos y usuarios, lo que requerirá un proceso de limpieza y manejo de datos para abordar estos valores ausentes. Además, hay una amplia variedad de plataformas y géneros de juegos, y el rango de años de lanzamiento abarca desde 1985 hasta 2016."
   ]
  },
  {
   "cell_type": "markdown",
   "metadata": {},
   "source": [
    "#### Preparación"
   ]
  },
  {
   "cell_type": "code",
   "execution_count": 49,
   "metadata": {},
   "outputs": [
    {
     "name": "stdout",
     "output_type": "stream",
     "text": [
      "<class 'pandas.core.frame.DataFrame'>\n",
      "RangeIndex: 16715 entries, 0 to 16714\n",
      "Data columns (total 11 columns):\n",
      " #   Column           Non-Null Count  Dtype  \n",
      "---  ------           --------------  -----  \n",
      " 0   Name             16713 non-null  object \n",
      " 1   Platform         16715 non-null  object \n",
      " 2   Year_of_Release  16446 non-null  float64\n",
      " 3   Genre            16713 non-null  object \n",
      " 4   NA_sales         16715 non-null  float64\n",
      " 5   EU_sales         16715 non-null  float64\n",
      " 6   JP_sales         16715 non-null  float64\n",
      " 7   Other_sales      16715 non-null  float64\n",
      " 8   Critic_Score     8137 non-null   float64\n",
      " 9   User_Score       10014 non-null  object \n",
      " 10  Rating           9949 non-null   object \n",
      "dtypes: float64(6), object(5)\n",
      "memory usage: 1.4+ MB\n"
     ]
    }
   ],
   "source": [
    "data.info()"
   ]
  },
  {
   "cell_type": "markdown",
   "metadata": {},
   "source": [
    "Convertiremos los nombres de las columnas a minúsculas:"
   ]
  },
  {
   "cell_type": "code",
   "execution_count": 50,
   "metadata": {},
   "outputs": [],
   "source": [
    "data.columns = data.columns.str.lower()"
   ]
  },
  {
   "cell_type": "markdown",
   "metadata": {},
   "source": [
    "Trataremos los valores ausentes:"
   ]
  },
  {
   "cell_type": "code",
   "execution_count": 51,
   "metadata": {},
   "outputs": [],
   "source": [
    "data = data.dropna(subset=[\"name\", \"genre\"])"
   ]
  },
  {
   "cell_type": "markdown",
   "metadata": {},
   "source": [
    "Convertiremos year_of_realease en formato Fecha:"
   ]
  },
  {
   "cell_type": "code",
   "execution_count": 52,
   "metadata": {},
   "outputs": [],
   "source": [
    "data.loc[:, 'year_of_release'] = pd.to_datetime(data['year_of_release'], format='%Y')"
   ]
  },
  {
   "cell_type": "markdown",
   "metadata": {},
   "source": [
    "Convertiremos user_scoe en data numérica:"
   ]
  },
  {
   "cell_type": "code",
   "execution_count": 53,
   "metadata": {},
   "outputs": [],
   "source": [
    "data.loc[:, 'year_of_release'] = pd.to_datetime(data['year_of_release'], format='%Y')"
   ]
  },
  {
   "cell_type": "markdown",
   "metadata": {},
   "source": [
    "Eliminar filas con valores faltantes en \"Name\", \"Year_of_Release\" y \"Genre\" si son insustanciales:"
   ]
  },
  {
   "cell_type": "code",
   "execution_count": 54,
   "metadata": {},
   "outputs": [],
   "source": [
    "data = data.dropna(subset=[\"name\", \"year_of_release\", \"genre\"])"
   ]
  },
  {
   "cell_type": "markdown",
   "metadata": {},
   "source": [
    "Imputar valores para las puntuaciones en \"Critic_Score\" y \"User_Score\" utilizando la media:"
   ]
  },
  {
   "cell_type": "markdown",
   "metadata": {},
   "source": [
    "Verificamos nuevamente:"
   ]
  },
  {
   "cell_type": "code",
   "execution_count": 55,
   "metadata": {},
   "outputs": [
    {
     "data": {
      "text/html": [
       "<div>\n",
       "<style scoped>\n",
       "    .dataframe tbody tr th:only-of-type {\n",
       "        vertical-align: middle;\n",
       "    }\n",
       "\n",
       "    .dataframe tbody tr th {\n",
       "        vertical-align: top;\n",
       "    }\n",
       "\n",
       "    .dataframe thead th {\n",
       "        text-align: right;\n",
       "    }\n",
       "</style>\n",
       "<table border=\"1\" class=\"dataframe\">\n",
       "  <thead>\n",
       "    <tr style=\"text-align: right;\">\n",
       "      <th></th>\n",
       "      <th>name</th>\n",
       "      <th>platform</th>\n",
       "      <th>year_of_release</th>\n",
       "      <th>genre</th>\n",
       "      <th>na_sales</th>\n",
       "      <th>eu_sales</th>\n",
       "      <th>jp_sales</th>\n",
       "      <th>other_sales</th>\n",
       "      <th>critic_score</th>\n",
       "      <th>user_score</th>\n",
       "      <th>rating</th>\n",
       "    </tr>\n",
       "  </thead>\n",
       "  <tbody>\n",
       "    <tr>\n",
       "      <th>0</th>\n",
       "      <td>Wii Sports</td>\n",
       "      <td>Wii</td>\n",
       "      <td>2006-01-01</td>\n",
       "      <td>Sports</td>\n",
       "      <td>41.36</td>\n",
       "      <td>28.96</td>\n",
       "      <td>3.77</td>\n",
       "      <td>8.45</td>\n",
       "      <td>76.0</td>\n",
       "      <td>8</td>\n",
       "      <td>E</td>\n",
       "    </tr>\n",
       "    <tr>\n",
       "      <th>1</th>\n",
       "      <td>Super Mario Bros.</td>\n",
       "      <td>NES</td>\n",
       "      <td>1985-01-01</td>\n",
       "      <td>Platform</td>\n",
       "      <td>29.08</td>\n",
       "      <td>3.58</td>\n",
       "      <td>6.81</td>\n",
       "      <td>0.77</td>\n",
       "      <td>NaN</td>\n",
       "      <td>NaN</td>\n",
       "      <td>NaN</td>\n",
       "    </tr>\n",
       "    <tr>\n",
       "      <th>2</th>\n",
       "      <td>Mario Kart Wii</td>\n",
       "      <td>Wii</td>\n",
       "      <td>2008-01-01</td>\n",
       "      <td>Racing</td>\n",
       "      <td>15.68</td>\n",
       "      <td>12.76</td>\n",
       "      <td>3.79</td>\n",
       "      <td>3.29</td>\n",
       "      <td>82.0</td>\n",
       "      <td>8.3</td>\n",
       "      <td>E</td>\n",
       "    </tr>\n",
       "    <tr>\n",
       "      <th>3</th>\n",
       "      <td>Wii Sports Resort</td>\n",
       "      <td>Wii</td>\n",
       "      <td>2009-01-01</td>\n",
       "      <td>Sports</td>\n",
       "      <td>15.61</td>\n",
       "      <td>10.93</td>\n",
       "      <td>3.28</td>\n",
       "      <td>2.95</td>\n",
       "      <td>80.0</td>\n",
       "      <td>8</td>\n",
       "      <td>E</td>\n",
       "    </tr>\n",
       "    <tr>\n",
       "      <th>4</th>\n",
       "      <td>Pokemon Red/Pokemon Blue</td>\n",
       "      <td>GB</td>\n",
       "      <td>1996-01-01</td>\n",
       "      <td>Role-Playing</td>\n",
       "      <td>11.27</td>\n",
       "      <td>8.89</td>\n",
       "      <td>10.22</td>\n",
       "      <td>1.00</td>\n",
       "      <td>NaN</td>\n",
       "      <td>NaN</td>\n",
       "      <td>NaN</td>\n",
       "    </tr>\n",
       "  </tbody>\n",
       "</table>\n",
       "</div>"
      ],
      "text/plain": [
       "                       name platform year_of_release         genre  na_sales  \\\n",
       "0                Wii Sports      Wii      2006-01-01        Sports     41.36   \n",
       "1         Super Mario Bros.      NES      1985-01-01      Platform     29.08   \n",
       "2            Mario Kart Wii      Wii      2008-01-01        Racing     15.68   \n",
       "3         Wii Sports Resort      Wii      2009-01-01        Sports     15.61   \n",
       "4  Pokemon Red/Pokemon Blue       GB      1996-01-01  Role-Playing     11.27   \n",
       "\n",
       "   eu_sales  jp_sales  other_sales  critic_score user_score rating  \n",
       "0     28.96      3.77         8.45          76.0          8      E  \n",
       "1      3.58      6.81         0.77           NaN        NaN    NaN  \n",
       "2     12.76      3.79         3.29          82.0        8.3      E  \n",
       "3     10.93      3.28         2.95          80.0          8      E  \n",
       "4      8.89     10.22         1.00           NaN        NaN    NaN  "
      ]
     },
     "execution_count": 55,
     "metadata": {},
     "output_type": "execute_result"
    }
   ],
   "source": [
    "data.head()"
   ]
  },
  {
   "cell_type": "code",
   "execution_count": 56,
   "metadata": {},
   "outputs": [
    {
     "name": "stdout",
     "output_type": "stream",
     "text": [
      "<class 'pandas.core.frame.DataFrame'>\n",
      "Int64Index: 16444 entries, 0 to 16714\n",
      "Data columns (total 11 columns):\n",
      " #   Column           Non-Null Count  Dtype         \n",
      "---  ------           --------------  -----         \n",
      " 0   name             16444 non-null  object        \n",
      " 1   platform         16444 non-null  object        \n",
      " 2   year_of_release  16444 non-null  datetime64[ns]\n",
      " 3   genre            16444 non-null  object        \n",
      " 4   na_sales         16444 non-null  float64       \n",
      " 5   eu_sales         16444 non-null  float64       \n",
      " 6   jp_sales         16444 non-null  float64       \n",
      " 7   other_sales      16444 non-null  float64       \n",
      " 8   critic_score     7983 non-null   float64       \n",
      " 9   user_score       9839 non-null   object        \n",
      " 10  rating           9768 non-null   object        \n",
      "dtypes: datetime64[ns](1), float64(5), object(5)\n",
      "memory usage: 1.5+ MB\n"
     ]
    }
   ],
   "source": [
    "data.info()"
   ]
  },
  {
   "cell_type": "markdown",
   "metadata": {},
   "source": [
    "### Análisis de Datos <a id='analisis-de-datos'></a>"
   ]
  },
  {
   "cell_type": "markdown",
   "metadata": {},
   "source": [
    "#### Ventas por Plataforma:"
   ]
  },
  {
   "cell_type": "markdown",
   "metadata": {},
   "source": [
    "Calcularemos las ventas totales por plataforma en diferentes regiones. A continuación se muestra un código para calcular las ventas totales en Norteamérica (NA_sales), Europa (EU_sales), Japón (JP_sales) y otras regiones (Other_sales) por plataforma:"
   ]
  },
  {
   "cell_type": "code",
   "execution_count": 57,
   "metadata": {},
   "outputs": [],
   "source": [
    "# Calcular las ventas totales por plataforma en diferentes regiones\n",
    "data['total_sales'] = data[['na_sales', 'eu_sales', 'jp_sales', 'other_sales']].sum(axis=1)\n"
   ]
  },
  {
   "cell_type": "code",
   "execution_count": 58,
   "metadata": {},
   "outputs": [
    {
     "data": {
      "text/html": [
       "<div>\n",
       "<style scoped>\n",
       "    .dataframe tbody tr th:only-of-type {\n",
       "        vertical-align: middle;\n",
       "    }\n",
       "\n",
       "    .dataframe tbody tr th {\n",
       "        vertical-align: top;\n",
       "    }\n",
       "\n",
       "    .dataframe thead th {\n",
       "        text-align: right;\n",
       "    }\n",
       "</style>\n",
       "<table border=\"1\" class=\"dataframe\">\n",
       "  <thead>\n",
       "    <tr style=\"text-align: right;\">\n",
       "      <th></th>\n",
       "      <th>name</th>\n",
       "      <th>platform</th>\n",
       "      <th>year_of_release</th>\n",
       "      <th>genre</th>\n",
       "      <th>na_sales</th>\n",
       "      <th>eu_sales</th>\n",
       "      <th>jp_sales</th>\n",
       "      <th>other_sales</th>\n",
       "      <th>critic_score</th>\n",
       "      <th>user_score</th>\n",
       "      <th>rating</th>\n",
       "      <th>total_sales</th>\n",
       "    </tr>\n",
       "  </thead>\n",
       "  <tbody>\n",
       "    <tr>\n",
       "      <th>0</th>\n",
       "      <td>Wii Sports</td>\n",
       "      <td>Wii</td>\n",
       "      <td>2006-01-01</td>\n",
       "      <td>Sports</td>\n",
       "      <td>41.36</td>\n",
       "      <td>28.96</td>\n",
       "      <td>3.77</td>\n",
       "      <td>8.45</td>\n",
       "      <td>76.0</td>\n",
       "      <td>8</td>\n",
       "      <td>E</td>\n",
       "      <td>82.54</td>\n",
       "    </tr>\n",
       "    <tr>\n",
       "      <th>1</th>\n",
       "      <td>Super Mario Bros.</td>\n",
       "      <td>NES</td>\n",
       "      <td>1985-01-01</td>\n",
       "      <td>Platform</td>\n",
       "      <td>29.08</td>\n",
       "      <td>3.58</td>\n",
       "      <td>6.81</td>\n",
       "      <td>0.77</td>\n",
       "      <td>NaN</td>\n",
       "      <td>NaN</td>\n",
       "      <td>NaN</td>\n",
       "      <td>40.24</td>\n",
       "    </tr>\n",
       "    <tr>\n",
       "      <th>2</th>\n",
       "      <td>Mario Kart Wii</td>\n",
       "      <td>Wii</td>\n",
       "      <td>2008-01-01</td>\n",
       "      <td>Racing</td>\n",
       "      <td>15.68</td>\n",
       "      <td>12.76</td>\n",
       "      <td>3.79</td>\n",
       "      <td>3.29</td>\n",
       "      <td>82.0</td>\n",
       "      <td>8.3</td>\n",
       "      <td>E</td>\n",
       "      <td>35.52</td>\n",
       "    </tr>\n",
       "    <tr>\n",
       "      <th>3</th>\n",
       "      <td>Wii Sports Resort</td>\n",
       "      <td>Wii</td>\n",
       "      <td>2009-01-01</td>\n",
       "      <td>Sports</td>\n",
       "      <td>15.61</td>\n",
       "      <td>10.93</td>\n",
       "      <td>3.28</td>\n",
       "      <td>2.95</td>\n",
       "      <td>80.0</td>\n",
       "      <td>8</td>\n",
       "      <td>E</td>\n",
       "      <td>32.77</td>\n",
       "    </tr>\n",
       "    <tr>\n",
       "      <th>4</th>\n",
       "      <td>Pokemon Red/Pokemon Blue</td>\n",
       "      <td>GB</td>\n",
       "      <td>1996-01-01</td>\n",
       "      <td>Role-Playing</td>\n",
       "      <td>11.27</td>\n",
       "      <td>8.89</td>\n",
       "      <td>10.22</td>\n",
       "      <td>1.00</td>\n",
       "      <td>NaN</td>\n",
       "      <td>NaN</td>\n",
       "      <td>NaN</td>\n",
       "      <td>31.38</td>\n",
       "    </tr>\n",
       "  </tbody>\n",
       "</table>\n",
       "</div>"
      ],
      "text/plain": [
       "                       name platform year_of_release         genre  na_sales  \\\n",
       "0                Wii Sports      Wii      2006-01-01        Sports     41.36   \n",
       "1         Super Mario Bros.      NES      1985-01-01      Platform     29.08   \n",
       "2            Mario Kart Wii      Wii      2008-01-01        Racing     15.68   \n",
       "3         Wii Sports Resort      Wii      2009-01-01        Sports     15.61   \n",
       "4  Pokemon Red/Pokemon Blue       GB      1996-01-01  Role-Playing     11.27   \n",
       "\n",
       "   eu_sales  jp_sales  other_sales  critic_score user_score rating  \\\n",
       "0     28.96      3.77         8.45          76.0          8      E   \n",
       "1      3.58      6.81         0.77           NaN        NaN    NaN   \n",
       "2     12.76      3.79         3.29          82.0        8.3      E   \n",
       "3     10.93      3.28         2.95          80.0          8      E   \n",
       "4      8.89     10.22         1.00           NaN        NaN    NaN   \n",
       "\n",
       "   total_sales  \n",
       "0        82.54  \n",
       "1        40.24  \n",
       "2        35.52  \n",
       "3        32.77  \n",
       "4        31.38  "
      ]
     },
     "execution_count": 58,
     "metadata": {},
     "output_type": "execute_result"
    }
   ],
   "source": [
    "data.head()"
   ]
  },
  {
   "cell_type": "markdown",
   "metadata": {},
   "source": [
    "Ver resultados:"
   ]
  },
  {
   "cell_type": "code",
   "execution_count": 59,
   "metadata": {},
   "outputs": [
    {
     "data": {
      "text/html": [
       "<div>\n",
       "<style scoped>\n",
       "    .dataframe tbody tr th:only-of-type {\n",
       "        vertical-align: middle;\n",
       "    }\n",
       "\n",
       "    .dataframe tbody tr th {\n",
       "        vertical-align: top;\n",
       "    }\n",
       "\n",
       "    .dataframe thead th {\n",
       "        text-align: right;\n",
       "    }\n",
       "</style>\n",
       "<table border=\"1\" class=\"dataframe\">\n",
       "  <thead>\n",
       "    <tr style=\"text-align: right;\">\n",
       "      <th></th>\n",
       "      <th>na_sales</th>\n",
       "      <th>eu_sales</th>\n",
       "      <th>jp_sales</th>\n",
       "      <th>other_sales</th>\n",
       "    </tr>\n",
       "    <tr>\n",
       "      <th>platform</th>\n",
       "      <th></th>\n",
       "      <th></th>\n",
       "      <th></th>\n",
       "      <th></th>\n",
       "    </tr>\n",
       "  </thead>\n",
       "  <tbody>\n",
       "    <tr>\n",
       "      <th>2600</th>\n",
       "      <td>80.78</td>\n",
       "      <td>4.86</td>\n",
       "      <td>0.00</td>\n",
       "      <td>0.84</td>\n",
       "    </tr>\n",
       "    <tr>\n",
       "      <th>3DO</th>\n",
       "      <td>0.00</td>\n",
       "      <td>0.00</td>\n",
       "      <td>0.10</td>\n",
       "      <td>0.00</td>\n",
       "    </tr>\n",
       "    <tr>\n",
       "      <th>3DS</th>\n",
       "      <td>82.65</td>\n",
       "      <td>61.27</td>\n",
       "      <td>100.62</td>\n",
       "      <td>13.27</td>\n",
       "    </tr>\n",
       "    <tr>\n",
       "      <th>DC</th>\n",
       "      <td>5.43</td>\n",
       "      <td>1.69</td>\n",
       "      <td>8.56</td>\n",
       "      <td>0.27</td>\n",
       "    </tr>\n",
       "    <tr>\n",
       "      <th>DS</th>\n",
       "      <td>380.31</td>\n",
       "      <td>188.41</td>\n",
       "      <td>175.02</td>\n",
       "      <td>59.04</td>\n",
       "    </tr>\n",
       "  </tbody>\n",
       "</table>\n",
       "</div>"
      ],
      "text/plain": [
       "          na_sales  eu_sales  jp_sales  other_sales\n",
       "platform                                           \n",
       "2600         80.78      4.86      0.00         0.84\n",
       "3DO           0.00      0.00      0.10         0.00\n",
       "3DS          82.65     61.27    100.62        13.27\n",
       "DC            5.43      1.69      8.56         0.27\n",
       "DS          380.31    188.41    175.02        59.04"
      ]
     },
     "execution_count": 59,
     "metadata": {},
     "output_type": "execute_result"
    }
   ],
   "source": [
    "sales_by_platform = data.groupby('platform')[['na_sales', 'eu_sales', 'jp_sales', 'other_sales']].sum()\n",
    "sales_by_platform.head()"
   ]
  },
  {
   "cell_type": "code",
   "execution_count": 60,
   "metadata": {},
   "outputs": [
    {
     "data": {
      "text/plain": [
       "platform\n",
       "PS2     1233.56\n",
       "X360     961.24\n",
       "PS3      931.34\n",
       "Wii      891.18\n",
       "DS       802.78\n",
       "dtype: float64"
      ]
     },
     "execution_count": 60,
     "metadata": {},
     "output_type": "execute_result"
    }
   ],
   "source": [
    "top_platforms = sales_by_platform.sum(axis=1).sort_values(ascending=False)\n",
    "top_platforms.head()"
   ]
  },
  {
   "cell_type": "markdown",
   "metadata": {},
   "source": [
    "En función de los datos de ventas totales por plataforma, se destaca que la plataforma \"PS2\" lidera con ventas acumulativas de 1233.56 millones de dólares, seguida de cerca por \"X360\" (961.24 millones), \"PS3\" (931.34 millones), \"Wii\" (891.18 millones) y \"DS\" (802.78 millones). Estos números representan ventas combinadas en todas las regiones. Además, se observa que algunas plataformas muestran preferencias regionales, como \"3DS\" con ventas notables en Japón y \"DS\" con ventas destacadas en Norteamérica y Europa.\n",
    "\n",
    "Estos primeros datos proporcionan una visión general de las plataformas más exitosas en términos de ventas totales y revelan diferencias regionales en las preferencias de las plataformas."
   ]
  },
  {
   "cell_type": "code",
   "execution_count": 61,
   "metadata": {},
   "outputs": [
    {
     "data": {
      "image/png": "[encoded data removed]",
      "text/plain": [
       "<Figure size 864x432 with 1 Axes>"
      ]
     },
     "metadata": {
      "needs_background": "light"
     },
     "output_type": "display_data"
    }
   ],
   "source": [
    "top_platforms[:10].plot(kind='bar', figsize=(12, 6))\n",
    "plt.title('Top 10 Plataformas por Ventas Totales')\n",
    "plt.xlabel('Plataforma')\n",
    "plt.ylabel('Ventas Totales (en millones de USD)')\n",
    "plt.xticks(rotation=45)\n",
    "plt.show()"
   ]
  },
  {
   "cell_type": "markdown",
   "metadata": {},
   "source": [
    "Claramente, el gráfico destaca a \"PS2\" como la plataforma líder en ventas totales, seguida de cerca por \"X360\", \"PS3\", \"Wii\" y \"DS\". Estas cinco plataformas tienen ventas acumuladas significativas.\n",
    "Las plataformas \"PS4\", \"GBA\", \"PSP\" y \"3DS\" tienen ventas mucho más bajas en comparación con las cinco principales.\n",
    "Las diferencias entre las ventas de estas plataformas sugieren que algunas plataformas han tenido un éxito notable en comparación con otras."
   ]
  },
  {
   "cell_type": "code",
   "execution_count": 62,
   "metadata": {},
   "outputs": [
    {
     "data": {
      "image/png": "[encoded data removed]",
      "text/plain": [
       "<Figure size 432x288 with 1 Axes>"
      ]
     },
     "metadata": {},
     "output_type": "display_data"
    }
   ],
   "source": [
    "platform_sales = data[data['platform'] == 'PS2'][['na_sales', 'eu_sales', 'jp_sales', 'other_sales']].sum()\n",
    "labels = ['Norteamérica', 'Europa', 'Japón', 'Otras regiones']\n",
    "plt.pie(platform_sales, labels=labels, autopct='%1.1f%%', startangle=140)\n",
    "plt.title('Distribución de Ventas de PS2 por Región')\n",
    "plt.axis('equal')  \n",
    "plt.show()"
   ]
  },
  {
   "cell_type": "markdown",
   "metadata": {},
   "source": [
    "La mayoría de las ventas de la plataforma \"PS2\" provienen de Norteamérica (46.4%) y Europa (27%). Esto indica que \"PS2\" ha sido particularmente popular en estas dos regiones.\n",
    "Japón contribuye significativamente con un 11.1% de las ventas totales de \"PS2\", lo que sugiere que la plataforma también tuvo cierto éxito en su país de origen.\n",
    "Las \"Otras regiones\" representan el 15.4% de las ventas totales de \"PS2\", lo que incluye ventas en otras partes del mundo."
   ]
  },
  {
   "cell_type": "code",
   "execution_count": 63,
   "metadata": {},
   "outputs": [
    {
     "data": {
      "image/png": "[encoded data removed]",
      "text/plain": [
       "<Figure size 432x288 with 1 Axes>"
      ]
     },
     "metadata": {
      "needs_background": "light"
     },
     "output_type": "display_data"
    }
   ],
   "source": [
    "plt.scatter(data['critic_score'], data['na_sales'], alpha=0.5)\n",
    "plt.title('Relación entre Puntuaciones de Críticos y Ventas en Norteamérica')\n",
    "plt.xlabel('Puntuación de Críticos')\n",
    "plt.ylabel('Ventas en Norteamérica (en millones de USD)')\n",
    "plt.show()"
   ]
  },
  {
   "cell_type": "markdown",
   "metadata": {},
   "source": [
    "El gráfico de dispersión muestra que la mayoría de los juegos tienen puntuaciones de críticos en un rango similar y tienen ventas en Norteamérica en un rango cercano a cero o moderado.\n",
    "Hay una concentración de puntos en la parte inferior del gráfico, lo que sugiere que la mayoría de los juegos no tienen altas puntuaciones de críticos ni ventas excepcionales en Norteamérica.\n",
    "Sin embargo, hay algunos puntos que se destacan en el rango de puntuaciones de críticos de alrededor de 70, con ventas en Norteamérica que varían considerablemente. Esto podría indicar que las altas puntuaciones de críticos no garantizan automáticamente altas ventas en Norteamérica.\n",
    "También se observan algunos puntos aislados con altas puntuaciones de críticos y ventas notables, lo que podría representar juegos excepcionales."
   ]
  },
  {
   "cell_type": "markdown",
   "metadata": {},
   "source": [
    "#### Influencia de las Reseñas en las Ventas"
   ]
  },
  {
   "cell_type": "markdown",
   "metadata": {},
   "source": [
    "Para visualizar cómo las puntuaciones de críticos y usuarios se correlacionan con las ventas globales, crearemos gráficos de dispersión."
   ]
  },
  {
   "cell_type": "code",
   "execution_count": 64,
   "metadata": {},
   "outputs": [
    {
     "data": {
      "image/png": "[encoded data removed]",
      "text/plain": [
       "<Figure size 432x288 with 1 Axes>"
      ]
     },
     "metadata": {
      "needs_background": "light"
     },
     "output_type": "display_data"
    }
   ],
   "source": [
    "# Gráfico de dispersión entre puntuaciones de críticos y ventas globales\n",
    "plt.scatter(data['critic_score'], data['na_sales'], alpha=0.5)\n",
    "plt.title('Relación entre Puntuaciones de Críticos y Ventas en Norteamérica')\n",
    "plt.xlabel('Puntuación de Críticos')\n",
    "plt.ylabel('Ventas en Norteamérica (en millones de USD)')\n",
    "plt.show()"
   ]
  },
  {
   "cell_type": "code",
   "execution_count": 65,
   "metadata": {},
   "outputs": [
    {
     "data": {
      "image/png": "[encoded data removed]",
      "text/plain": [
       "<Figure size 432x288 with 1 Axes>"
      ]
     },
     "metadata": {
      "needs_background": "light"
     },
     "output_type": "display_data"
    }
   ],
   "source": [
    "# Reemplazar los valores no válidos  con NaN\n",
    "data['user_score'] = pd.to_numeric(data['user_score'], errors='coerce')\n",
    "\n",
    "# Crear el gráfico \n",
    "plt.scatter(data['user_score'], data['na_sales'], alpha=0.5)\n",
    "plt.title('Relación entre Puntuaciones de Usuarios y Ventas en Norteamérica')\n",
    "plt.xlabel('Puntuación de Usuarios')\n",
    "plt.ylabel('Ventas en Norteamérica (en millones de USD)')\n",
    "plt.show()\n"
   ]
  },
  {
   "cell_type": "markdown",
   "metadata": {},
   "source": [
    "Calcularemos la correlación entre las puntuaciones de críticos y usuarios con las ventas globales:"
   ]
  },
  {
   "cell_type": "code",
   "execution_count": 66,
   "metadata": {},
   "outputs": [
    {
     "name": "stdout",
     "output_type": "stream",
     "text": [
      "Correlación entre Puntuaciones de Críticos y Ventas en Norteamérica: 0.24\n",
      "Correlación entre Puntuaciones de Usuarios y Ventas en Norteamérica: 0.09\n"
     ]
    }
   ],
   "source": [
    "# Convertir las columnas en valores numéricos y manejar los valores no válidos\n",
    "data['user_score'] = pd.to_numeric(data['user_score'], errors='coerce')\n",
    "data['na_sales'] = pd.to_numeric(data['na_sales'], errors='coerce')\n",
    "\n",
    "# Calcular la correlación entre Puntuaciones de Críticos y Ventas en Norteamérica\n",
    "correlation_critic = data['critic_score'].corr(data['na_sales'])\n",
    "\n",
    "# Calcular la correlación entre Puntuaciones de Usuarios y Ventas en Norteamérica\n",
    "correlation_user = data['user_score'].corr(data['na_sales'])\n",
    "\n",
    "print(f\"Correlación entre Puntuaciones de Críticos y Ventas en Norteamérica: {correlation_critic:.2f}\")\n",
    "print(f\"Correlación entre Puntuaciones de Usuarios y Ventas en Norteamérica: {correlation_user:.2f}\")\n"
   ]
  },
  {
   "cell_type": "markdown",
   "metadata": {},
   "source": [
    "Las opiniones de los críticos pueden influir en cierta medida en las ventas de videojuegos en Norteamérica, pero las opiniones de los usuarios tienen una influencia limitada en esta región."
   ]
  },
  {
   "cell_type": "markdown",
   "metadata": {},
   "source": [
    "####  Análisis de la Distribución de Géneros de Juegos"
   ]
  },
  {
   "cell_type": "markdown",
   "metadata": {},
   "source": [
    "Calcularemos la cantidad total de juegos por género:"
   ]
  },
  {
   "cell_type": "code",
   "execution_count": 67,
   "metadata": {},
   "outputs": [
    {
     "name": "stdout",
     "output_type": "stream",
     "text": [
      "Cantidad de Juegos por Género:\n"
     ]
    },
    {
     "data": {
      "text/plain": [
       "Action          3307\n",
       "Sports          2306\n",
       "Misc            1721\n",
       "Role-Playing    1481\n",
       "Shooter         1296\n",
       "Adventure       1293\n",
       "Racing          1226\n",
       "Platform         878\n",
       "Simulation       857\n",
       "Fighting         837\n",
       "Strategy         673\n",
       "Puzzle           569\n",
       "Name: genre, dtype: int64"
      ]
     },
     "execution_count": 67,
     "metadata": {},
     "output_type": "execute_result"
    }
   ],
   "source": [
    "# Calcular la cantidad total de juegos por género\n",
    "genre_counts = data['genre'].value_counts()\n",
    "\n",
    "# Mostrar la cantidad de juegos por género\n",
    "print(\"Cantidad de Juegos por Género:\")\n",
    "genre_counts"
   ]
  },
  {
   "cell_type": "markdown",
   "metadata": {},
   "source": [
    "Se observa que el género \"Action\" es el más común en la base de datos, seguido de cerca por \"Sports\" y \"Misc\". Los géneros \"Puzzle\" y \"Strategy\" son los menos representados en términos de cantidad de juegos. Esto sugiere que los géneros de acción, deportes y misceláneos son los más populares y ampliamente desarrollados en la industria de los videojuegos, mientras que los géneros de rompecabezas y estrategia tienen una presencia más limitada."
   ]
  },
  {
   "cell_type": "markdown",
   "metadata": {},
   "source": [
    "Veremos las ventas totales por género en diferentes regiones (Norteamérica, Europa, Japón, otras regiones), agruparemos los datos por género y sumaremos las ventas en cada región. "
   ]
  },
  {
   "cell_type": "code",
   "execution_count": 68,
   "metadata": {},
   "outputs": [
    {
     "name": "stdout",
     "output_type": "stream",
     "text": [
      "Ventas Totales por Género en Diferentes Regiones:\n"
     ]
    },
    {
     "data": {
      "text/html": [
       "<div>\n",
       "<style scoped>\n",
       "    .dataframe tbody tr th:only-of-type {\n",
       "        vertical-align: middle;\n",
       "    }\n",
       "\n",
       "    .dataframe tbody tr th {\n",
       "        vertical-align: top;\n",
       "    }\n",
       "\n",
       "    .dataframe thead th {\n",
       "        text-align: right;\n",
       "    }\n",
       "</style>\n",
       "<table border=\"1\" class=\"dataframe\">\n",
       "  <thead>\n",
       "    <tr style=\"text-align: right;\">\n",
       "      <th></th>\n",
       "      <th>na_sales</th>\n",
       "      <th>eu_sales</th>\n",
       "      <th>jp_sales</th>\n",
       "      <th>other_sales</th>\n",
       "    </tr>\n",
       "    <tr>\n",
       "      <th>genre</th>\n",
       "      <th></th>\n",
       "      <th></th>\n",
       "      <th></th>\n",
       "      <th></th>\n",
       "    </tr>\n",
       "  </thead>\n",
       "  <tbody>\n",
       "    <tr>\n",
       "      <th>Action</th>\n",
       "      <td>863.17</td>\n",
       "      <td>510.99</td>\n",
       "      <td>160.14</td>\n",
       "      <td>182.22</td>\n",
       "    </tr>\n",
       "    <tr>\n",
       "      <th>Adventure</th>\n",
       "      <td>101.52</td>\n",
       "      <td>63.20</td>\n",
       "      <td>52.24</td>\n",
       "      <td>16.37</td>\n",
       "    </tr>\n",
       "    <tr>\n",
       "      <th>Fighting</th>\n",
       "      <td>220.51</td>\n",
       "      <td>99.00</td>\n",
       "      <td>87.28</td>\n",
       "      <td>35.87</td>\n",
       "    </tr>\n",
       "    <tr>\n",
       "      <th>Misc</th>\n",
       "      <td>399.57</td>\n",
       "      <td>210.60</td>\n",
       "      <td>107.02</td>\n",
       "      <td>73.10</td>\n",
       "    </tr>\n",
       "    <tr>\n",
       "      <th>Platform</th>\n",
       "      <td>444.44</td>\n",
       "      <td>199.39</td>\n",
       "      <td>130.71</td>\n",
       "      <td>51.01</td>\n",
       "    </tr>\n",
       "    <tr>\n",
       "      <th>Puzzle</th>\n",
       "      <td>121.13</td>\n",
       "      <td>49.78</td>\n",
       "      <td>56.68</td>\n",
       "      <td>12.30</td>\n",
       "    </tr>\n",
       "    <tr>\n",
       "      <th>Racing</th>\n",
       "      <td>356.86</td>\n",
       "      <td>234.49</td>\n",
       "      <td>56.63</td>\n",
       "      <td>75.51</td>\n",
       "    </tr>\n",
       "    <tr>\n",
       "      <th>Role-Playing</th>\n",
       "      <td>330.04</td>\n",
       "      <td>188.24</td>\n",
       "      <td>353.39</td>\n",
       "      <td>59.41</td>\n",
       "    </tr>\n",
       "    <tr>\n",
       "      <th>Shooter</th>\n",
       "      <td>584.83</td>\n",
       "      <td>314.52</td>\n",
       "      <td>38.68</td>\n",
       "      <td>103.33</td>\n",
       "    </tr>\n",
       "    <tr>\n",
       "      <th>Simulation</th>\n",
       "      <td>180.40</td>\n",
       "      <td>113.35</td>\n",
       "      <td>63.64</td>\n",
       "      <td>30.57</td>\n",
       "    </tr>\n",
       "    <tr>\n",
       "      <th>Sports</th>\n",
       "      <td>671.20</td>\n",
       "      <td>371.33</td>\n",
       "      <td>134.93</td>\n",
       "      <td>132.21</td>\n",
       "    </tr>\n",
       "    <tr>\n",
       "      <th>Strategy</th>\n",
       "      <td>67.75</td>\n",
       "      <td>44.79</td>\n",
       "      <td>49.30</td>\n",
       "      <td>10.73</td>\n",
       "    </tr>\n",
       "  </tbody>\n",
       "</table>\n",
       "</div>"
      ],
      "text/plain": [
       "              na_sales  eu_sales  jp_sales  other_sales\n",
       "genre                                                  \n",
       "Action          863.17    510.99    160.14       182.22\n",
       "Adventure       101.52     63.20     52.24        16.37\n",
       "Fighting        220.51     99.00     87.28        35.87\n",
       "Misc            399.57    210.60    107.02        73.10\n",
       "Platform        444.44    199.39    130.71        51.01\n",
       "Puzzle          121.13     49.78     56.68        12.30\n",
       "Racing          356.86    234.49     56.63        75.51\n",
       "Role-Playing    330.04    188.24    353.39        59.41\n",
       "Shooter         584.83    314.52     38.68       103.33\n",
       "Simulation      180.40    113.35     63.64        30.57\n",
       "Sports          671.20    371.33    134.93       132.21\n",
       "Strategy         67.75     44.79     49.30        10.73"
      ]
     },
     "execution_count": 68,
     "metadata": {},
     "output_type": "execute_result"
    }
   ],
   "source": [
    "# Calcular las ventas totales por género en Norteamérica, Europa, Japón y otras regiones\n",
    "genre_sales = data.groupby('genre')[['na_sales', 'eu_sales', 'jp_sales', 'other_sales']].sum()\n",
    "\n",
    "# Mostrar las ventas totales por género\n",
    "print(\"Ventas Totales por Género en Diferentes Regiones:\")\n",
    "genre_sales\n"
   ]
  },
  {
   "cell_type": "markdown",
   "metadata": {},
   "source": [
    "Se puede observar que los géneros de juegos varían significativamente en términos de ventas totales en diferentes regiones. El género \"Shooter\" lidera en ventas en Norteamérica con un total de 584.83 millones de dólares, mientras que en Japón tiene ventas notoriamente más bajas. En Japón, los géneros \"Role-Playing\" y \"Action\" son los más populares, con ventas sustancialmente más altas que en otras regiones. Además, los géneros \"Sports\" y \"Racing\" tienen un rendimiento sólido en Norteamérica y Europa, mientras que en Japón, estos géneros no son tan predominantes. Esto sugiere que las preferencias de los jugadores varían según la región, lo que podría ser importante para las estrategias de marketing y desarrollo de videojuegos."
   ]
  },
  {
   "cell_type": "code",
   "execution_count": 69,
   "metadata": {},
   "outputs": [
    {
     "data": {
      "image/png": "[encoded data removed]",
      "text/plain": [
       "<Figure size 864x432 with 1 Axes>"
      ]
     },
     "metadata": {
      "needs_background": "light"
     },
     "output_type": "display_data"
    }
   ],
   "source": [
    "# Gráfico de barras para la distribución de géneros de juegos\n",
    "plt.figure(figsize=(12, 6))\n",
    "plt.bar(genre_counts.index, genre_counts.values)\n",
    "plt.title('Distribución de Géneros de Juegos')\n",
    "plt.xlabel('Género')\n",
    "plt.ylabel('Cantidad de Juegos')\n",
    "plt.xticks(rotation=90)\n",
    "plt.show()"
   ]
  },
  {
   "cell_type": "markdown",
   "metadata": {},
   "source": [
    "La barra más alta corresponde al género \"Action\", lo que indica que hay una gran cantidad de juegos en este género en la base de datos. Le sigue el género \"Sports\", que también tiene una representación significativa. Por otro lado, el género \"Puzzle\" muestra la menor cantidad de juegos en comparación con los demás géneros."
   ]
  },
  {
   "cell_type": "markdown",
   "metadata": {},
   "source": [
    "Identificaremos los géneros más rentables y los menos rentables en términos de ventas ordenando la tabla de ventas totales por género en cada región:"
   ]
  },
  {
   "cell_type": "code",
   "execution_count": 70,
   "metadata": {},
   "outputs": [
    {
     "name": "stdout",
     "output_type": "stream",
     "text": [
      "Géneros Más Rentables en Norteamérica:\n",
      "        na_sales  eu_sales  jp_sales  other_sales\n",
      "genre                                            \n",
      "Action    863.17    510.99    160.14       182.22\n",
      "\n",
      "Géneros Menos Rentables en Norteamérica:\n",
      "          na_sales  eu_sales  jp_sales  other_sales\n",
      "genre                                              \n",
      "Strategy     67.75     44.79      49.3        10.73\n"
     ]
    }
   ],
   "source": [
    "# Ordenar la tabla de ventas totales por género en Norteamérica\n",
    "genre_sales_north_america = genre_sales.sort_values(by='na_sales', ascending=False)\n",
    "\n",
    "# Mostrar los géneros más y menos rentables en Norteamérica\n",
    "print(\"Géneros Más Rentables en Norteamérica:\")\n",
    "print(genre_sales_north_america.head(1))\n",
    "\n",
    "print(\"\\nGéneros Menos Rentables en Norteamérica:\")\n",
    "print(genre_sales_north_america.tail(1))\n"
   ]
  },
  {
   "cell_type": "code",
   "execution_count": 71,
   "metadata": {},
   "outputs": [
    {
     "name": "stdout",
     "output_type": "stream",
     "text": [
      "Géneros Más Rentables en Europa:\n",
      "        na_sales  eu_sales  jp_sales  other_sales\n",
      "genre                                            \n",
      "Action    863.17    510.99    160.14       182.22\n",
      "\n",
      "Géneros Menos Rentables en Europa:\n",
      "          na_sales  eu_sales  jp_sales  other_sales\n",
      "genre                                              \n",
      "Strategy     67.75     44.79      49.3        10.73\n"
     ]
    }
   ],
   "source": [
    "# Ordenar la tabla de ventas totales por género en Europa\n",
    "genre_sales_europe = genre_sales.sort_values(by='eu_sales', ascending=False)\n",
    "\n",
    "# Mostrar los géneros más y menos rentables en Europa\n",
    "print(\"Géneros Más Rentables en Europa:\")\n",
    "print(genre_sales_europe.head(1))\n",
    "\n",
    "print(\"\\nGéneros Menos Rentables en Europa:\")\n",
    "print(genre_sales_europe.tail(1))"
   ]
  },
  {
   "cell_type": "code",
   "execution_count": 72,
   "metadata": {},
   "outputs": [
    {
     "name": "stdout",
     "output_type": "stream",
     "text": [
      "Géneros Más Rentables en Japón:\n",
      "              na_sales  eu_sales  jp_sales  other_sales\n",
      "genre                                                  \n",
      "Role-Playing    330.04    188.24    353.39        59.41\n",
      "\n",
      "Géneros Menos Rentables en Japón:\n",
      "         na_sales  eu_sales  jp_sales  other_sales\n",
      "genre                                             \n",
      "Shooter    584.83    314.52     38.68       103.33\n"
     ]
    }
   ],
   "source": [
    "# Ordenar la tabla de ventas totales por género en Japón\n",
    "genre_sales_japan = genre_sales.sort_values(by='jp_sales', ascending=False)\n",
    "\n",
    "# Mostrar los géneros más y menos rentables en Japón\n",
    "print(\"Géneros Más Rentables en Japón:\")\n",
    "print(genre_sales_japan.head(1))\n",
    "\n",
    "print(\"\\nGéneros Menos Rentables en Japón:\")\n",
    "print(genre_sales_japan.tail(1))\n"
   ]
  },
  {
   "cell_type": "markdown",
   "metadata": {},
   "source": [
    "Los datos revelan que los géneros de juegos más rentables varían según la región. En Norteamérica y Europa, el género \"Action\" lidera en ventas, mientras que \"Strategy\" es el menos rentable en ambas regiones. Por otro lado, en Japón, el género \"Role-Playing\" tiene un rendimiento destacado en ventas, en contraste con \"Shooter\", que es menos popular en esta región. Estas diferencias regionales resaltan la importancia de adaptar las estrategias de marketing y desarrollo de juegos para satisfacer las preferencias de los jugadores en cada mercado."
   ]
  },
  {
   "cell_type": "markdown",
   "metadata": {},
   "source": [
    "**Primeras Conclusiones:**\n",
    "- Los géneros de juegos más rentables varían según la región. En Norteamérica y Europa, el género \"Action\" lidera en ventas, mientras que en Japón, \"Role-Playing\" es el género más popular. \n",
    "\n",
    "- Las correlaciones entre las puntuaciones de críticos y usuarios con las ventas globales son relativamente bajas, lo que sugiere que las reseñas no son un factor determinante en el éxito de ventas. Sin embargo, es importante considerar otros factores que pueden influir en las ventas, como la publicidad y la popularidad de la franquicia.\n",
    "\n",
    "- El género \"Action\" es el más común en la base de datos, seguido de cerca por \"Sports\". Por otro lado, \"Puzzle\" es el género menos representado. Esto refleja la prevalencia de ciertos géneros en la industria de los videojuegos y puede ser útil para desarrolladores y comercializadores al tomar decisiones sobre el desarrollo de juegos."
   ]
  },
  {
   "cell_type": "code",
   "execution_count": 73,
   "metadata": {},
   "outputs": [],
   "source": [
    "# Definir las fechas de inicio y fin\n",
    "start_date = datetime(2011, 1, 1)  # 1 de enero de 2011\n",
    "end_date = datetime(2016, 12, 31)  # 31 de diciembre de 2016\n",
    "\n",
    "# Filtrar los datos por el rango de fechas\n",
    "filtered_data = data[(data['year_of_release'] >= start_date) & (data['year_of_release'] <= end_date)]\n",
    "\n"
   ]
  },
  {
   "cell_type": "code",
   "execution_count": 74,
   "metadata": {},
   "outputs": [
    {
     "data": {
      "text/html": [
       "<div>\n",
       "<style scoped>\n",
       "    .dataframe tbody tr th:only-of-type {\n",
       "        vertical-align: middle;\n",
       "    }\n",
       "\n",
       "    .dataframe tbody tr th {\n",
       "        vertical-align: top;\n",
       "    }\n",
       "\n",
       "    .dataframe thead th {\n",
       "        text-align: right;\n",
       "    }\n",
       "</style>\n",
       "<table border=\"1\" class=\"dataframe\">\n",
       "  <thead>\n",
       "    <tr style=\"text-align: right;\">\n",
       "      <th></th>\n",
       "      <th>name</th>\n",
       "      <th>platform</th>\n",
       "      <th>year_of_release</th>\n",
       "      <th>genre</th>\n",
       "      <th>na_sales</th>\n",
       "      <th>eu_sales</th>\n",
       "      <th>jp_sales</th>\n",
       "      <th>other_sales</th>\n",
       "      <th>critic_score</th>\n",
       "      <th>user_score</th>\n",
       "      <th>rating</th>\n",
       "      <th>total_sales</th>\n",
       "    </tr>\n",
       "  </thead>\n",
       "  <tbody>\n",
       "    <tr>\n",
       "      <th>16</th>\n",
       "      <td>Grand Theft Auto V</td>\n",
       "      <td>PS3</td>\n",
       "      <td>2013-01-01</td>\n",
       "      <td>Action</td>\n",
       "      <td>7.02</td>\n",
       "      <td>9.09</td>\n",
       "      <td>0.98</td>\n",
       "      <td>3.96</td>\n",
       "      <td>97.0</td>\n",
       "      <td>8.2</td>\n",
       "      <td>M</td>\n",
       "      <td>21.05</td>\n",
       "    </tr>\n",
       "    <tr>\n",
       "      <th>23</th>\n",
       "      <td>Grand Theft Auto V</td>\n",
       "      <td>X360</td>\n",
       "      <td>2013-01-01</td>\n",
       "      <td>Action</td>\n",
       "      <td>9.66</td>\n",
       "      <td>5.14</td>\n",
       "      <td>0.06</td>\n",
       "      <td>1.41</td>\n",
       "      <td>97.0</td>\n",
       "      <td>8.1</td>\n",
       "      <td>M</td>\n",
       "      <td>16.27</td>\n",
       "    </tr>\n",
       "    <tr>\n",
       "      <th>29</th>\n",
       "      <td>Call of Duty: Modern Warfare 3</td>\n",
       "      <td>X360</td>\n",
       "      <td>2011-01-01</td>\n",
       "      <td>Shooter</td>\n",
       "      <td>9.04</td>\n",
       "      <td>4.24</td>\n",
       "      <td>0.13</td>\n",
       "      <td>1.32</td>\n",
       "      <td>88.0</td>\n",
       "      <td>3.4</td>\n",
       "      <td>M</td>\n",
       "      <td>14.73</td>\n",
       "    </tr>\n",
       "    <tr>\n",
       "      <th>31</th>\n",
       "      <td>Call of Duty: Black Ops 3</td>\n",
       "      <td>PS4</td>\n",
       "      <td>2015-01-01</td>\n",
       "      <td>Shooter</td>\n",
       "      <td>6.03</td>\n",
       "      <td>5.86</td>\n",
       "      <td>0.36</td>\n",
       "      <td>2.38</td>\n",
       "      <td>NaN</td>\n",
       "      <td>NaN</td>\n",
       "      <td>NaN</td>\n",
       "      <td>14.63</td>\n",
       "    </tr>\n",
       "    <tr>\n",
       "      <th>33</th>\n",
       "      <td>Pokemon X/Pokemon Y</td>\n",
       "      <td>3DS</td>\n",
       "      <td>2013-01-01</td>\n",
       "      <td>Role-Playing</td>\n",
       "      <td>5.28</td>\n",
       "      <td>4.19</td>\n",
       "      <td>4.35</td>\n",
       "      <td>0.78</td>\n",
       "      <td>NaN</td>\n",
       "      <td>NaN</td>\n",
       "      <td>NaN</td>\n",
       "      <td>14.60</td>\n",
       "    </tr>\n",
       "    <tr>\n",
       "      <th>...</th>\n",
       "      <td>...</td>\n",
       "      <td>...</td>\n",
       "      <td>...</td>\n",
       "      <td>...</td>\n",
       "      <td>...</td>\n",
       "      <td>...</td>\n",
       "      <td>...</td>\n",
       "      <td>...</td>\n",
       "      <td>...</td>\n",
       "      <td>...</td>\n",
       "      <td>...</td>\n",
       "      <td>...</td>\n",
       "    </tr>\n",
       "    <tr>\n",
       "      <th>16703</th>\n",
       "      <td>Strawberry Nauts</td>\n",
       "      <td>PSV</td>\n",
       "      <td>2016-01-01</td>\n",
       "      <td>Adventure</td>\n",
       "      <td>0.00</td>\n",
       "      <td>0.00</td>\n",
       "      <td>0.01</td>\n",
       "      <td>0.00</td>\n",
       "      <td>NaN</td>\n",
       "      <td>NaN</td>\n",
       "      <td>NaN</td>\n",
       "      <td>0.01</td>\n",
       "    </tr>\n",
       "    <tr>\n",
       "      <th>16707</th>\n",
       "      <td>Aiyoku no Eustia</td>\n",
       "      <td>PSV</td>\n",
       "      <td>2014-01-01</td>\n",
       "      <td>Misc</td>\n",
       "      <td>0.00</td>\n",
       "      <td>0.00</td>\n",
       "      <td>0.01</td>\n",
       "      <td>0.00</td>\n",
       "      <td>NaN</td>\n",
       "      <td>NaN</td>\n",
       "      <td>NaN</td>\n",
       "      <td>0.01</td>\n",
       "    </tr>\n",
       "    <tr>\n",
       "      <th>16710</th>\n",
       "      <td>Samurai Warriors: Sanada Maru</td>\n",
       "      <td>PS3</td>\n",
       "      <td>2016-01-01</td>\n",
       "      <td>Action</td>\n",
       "      <td>0.00</td>\n",
       "      <td>0.00</td>\n",
       "      <td>0.01</td>\n",
       "      <td>0.00</td>\n",
       "      <td>NaN</td>\n",
       "      <td>NaN</td>\n",
       "      <td>NaN</td>\n",
       "      <td>0.01</td>\n",
       "    </tr>\n",
       "    <tr>\n",
       "      <th>16712</th>\n",
       "      <td>Haitaka no Psychedelica</td>\n",
       "      <td>PSV</td>\n",
       "      <td>2016-01-01</td>\n",
       "      <td>Adventure</td>\n",
       "      <td>0.00</td>\n",
       "      <td>0.00</td>\n",
       "      <td>0.01</td>\n",
       "      <td>0.00</td>\n",
       "      <td>NaN</td>\n",
       "      <td>NaN</td>\n",
       "      <td>NaN</td>\n",
       "      <td>0.01</td>\n",
       "    </tr>\n",
       "    <tr>\n",
       "      <th>16714</th>\n",
       "      <td>Winning Post 8 2016</td>\n",
       "      <td>PSV</td>\n",
       "      <td>2016-01-01</td>\n",
       "      <td>Simulation</td>\n",
       "      <td>0.00</td>\n",
       "      <td>0.00</td>\n",
       "      <td>0.01</td>\n",
       "      <td>0.00</td>\n",
       "      <td>NaN</td>\n",
       "      <td>NaN</td>\n",
       "      <td>NaN</td>\n",
       "      <td>0.01</td>\n",
       "    </tr>\n",
       "  </tbody>\n",
       "</table>\n",
       "<p>4022 rows × 12 columns</p>\n",
       "</div>"
      ],
      "text/plain": [
       "                                 name platform year_of_release         genre  \\\n",
       "16                 Grand Theft Auto V      PS3      2013-01-01        Action   \n",
       "23                 Grand Theft Auto V     X360      2013-01-01        Action   \n",
       "29     Call of Duty: Modern Warfare 3     X360      2011-01-01       Shooter   \n",
       "31          Call of Duty: Black Ops 3      PS4      2015-01-01       Shooter   \n",
       "33                Pokemon X/Pokemon Y      3DS      2013-01-01  Role-Playing   \n",
       "...                               ...      ...             ...           ...   \n",
       "16703                Strawberry Nauts      PSV      2016-01-01     Adventure   \n",
       "16707                Aiyoku no Eustia      PSV      2014-01-01          Misc   \n",
       "16710   Samurai Warriors: Sanada Maru      PS3      2016-01-01        Action   \n",
       "16712         Haitaka no Psychedelica      PSV      2016-01-01     Adventure   \n",
       "16714             Winning Post 8 2016      PSV      2016-01-01    Simulation   \n",
       "\n",
       "       na_sales  eu_sales  jp_sales  other_sales  critic_score  user_score  \\\n",
       "16         7.02      9.09      0.98         3.96          97.0         8.2   \n",
       "23         9.66      5.14      0.06         1.41          97.0         8.1   \n",
       "29         9.04      4.24      0.13         1.32          88.0         3.4   \n",
       "31         6.03      5.86      0.36         2.38           NaN         NaN   \n",
       "33         5.28      4.19      4.35         0.78           NaN         NaN   \n",
       "...         ...       ...       ...          ...           ...         ...   \n",
       "16703      0.00      0.00      0.01         0.00           NaN         NaN   \n",
       "16707      0.00      0.00      0.01         0.00           NaN         NaN   \n",
       "16710      0.00      0.00      0.01         0.00           NaN         NaN   \n",
       "16712      0.00      0.00      0.01         0.00           NaN         NaN   \n",
       "16714      0.00      0.00      0.01         0.00           NaN         NaN   \n",
       "\n",
       "      rating  total_sales  \n",
       "16         M        21.05  \n",
       "23         M        16.27  \n",
       "29         M        14.73  \n",
       "31       NaN        14.63  \n",
       "33       NaN        14.60  \n",
       "...      ...          ...  \n",
       "16703    NaN         0.01  \n",
       "16707    NaN         0.01  \n",
       "16710    NaN         0.01  \n",
       "16712    NaN         0.01  \n",
       "16714    NaN         0.01  \n",
       "\n",
       "[4022 rows x 12 columns]"
      ]
     },
     "execution_count": 74,
     "metadata": {},
     "output_type": "execute_result"
    }
   ],
   "source": [
    "filtered_data"
   ]
  },
  {
   "cell_type": "markdown",
   "metadata": {},
   "source": [
    "### Perfil de Usuario Por Región: <a id='perfil-de-usuario-por-region'></a>"
   ]
  },
  {
   "cell_type": "markdown",
   "metadata": {},
   "source": [
    "Para crear perfiles de usuario por región y evaluar la influencia de las clasificaciones de ESRB en las ventas regionales, primero analizaremos lo siguiente:"
   ]
  },
  {
   "cell_type": "markdown",
   "metadata": {},
   "source": [
    "#### Plataformas Populares por Región:"
   ]
  },
  {
   "cell_type": "code",
   "execution_count": 75,
   "metadata": {},
   "outputs": [],
   "source": [
    "# Ventas totales por plataforma en Norteamérica\n",
    "na_platform_sales = filtered_data.groupby('platform')['na_sales'].sum().sort_values(ascending=False)\n",
    "\n",
    "# Ventas totales por plataforma en Europa\n",
    "eu_platform_sales = filtered_data.groupby('platform')['eu_sales'].sum().sort_values(ascending=False)\n",
    "\n",
    "# Ventas totales por plataforma en Japón\n",
    "jp_platform_sales = filtered_data.groupby('platform')['jp_sales'].sum().sort_values(ascending=False)\n",
    "\n"
   ]
  },
  {
   "cell_type": "code",
   "execution_count": 76,
   "metadata": {},
   "outputs": [
    {
     "name": "stdout",
     "output_type": "stream",
     "text": [
      "Plataformas Populares en Norteamérica:\n",
      "platform\n",
      "X360    226.80\n",
      "PS3     168.26\n",
      "PS4     108.74\n",
      "XOne     93.12\n",
      "3DS      82.65\n",
      "Name: na_sales, dtype: float64\n",
      "\n",
      "Plataformas Populares en Europa:\n",
      "platform\n",
      "PS3     163.10\n",
      "PS4     141.09\n",
      "X360    117.10\n",
      "3DS      61.27\n",
      "PC       56.70\n",
      "Name: eu_sales, dtype: float64\n",
      "\n",
      "Plataformas Populares en Japón:\n",
      "platform\n",
      "3DS    100.62\n",
      "PS3     49.39\n",
      "PSP     24.04\n",
      "PSV     21.84\n",
      "PS4     15.96\n",
      "Name: jp_sales, dtype: float64\n"
     ]
    }
   ],
   "source": [
    "# Imprimir las 5 plataformas principales en Norteamérica\n",
    "print(\"Plataformas Populares en Norteamérica:\")\n",
    "print(na_platform_sales.head(5))\n",
    "\n",
    "# Imprimir las 5 plataformas principales en Europa\n",
    "print(\"\\nPlataformas Populares en Europa:\")\n",
    "print(eu_platform_sales.head(5))\n",
    "\n",
    "# Imprimir las 5 plataformas principales en Japón\n",
    "print(\"\\nPlataformas Populares en Japón:\")\n",
    "print(jp_platform_sales.head(5))\n"
   ]
  },
  {
   "cell_type": "markdown",
   "metadata": {},
   "source": [
    "**Observaciones:**\n",
    "\n",
    "En Norteamérica, la plataforma Xbox 360 (X360) lidera con un considerable margen, seguida de cerca por la PlayStation 3 (PS3) y la PlayStation 4 (PS4). En Europa, la PS3 y la PS4 son las más populares, mientras que en Japón, la Nintendo 3DS (3DS) se destaca como la plataforma líder. Estas diferencias sugieren que las preferencias de los jugadores varían significativamente según la región, lo que podría influir en las estrategias de lanzamiento y marketing de las empresas de videojuegos."
   ]
  },
  {
   "cell_type": "markdown",
   "metadata": {},
   "source": [
    "#### Géneros Populares por Región:"
   ]
  },
  {
   "cell_type": "code",
   "execution_count": 77,
   "metadata": {},
   "outputs": [],
   "source": [
    "# Ventas totales por género en Norteamérica\n",
    "na_genre_sales = filtered_data.groupby('genre')['na_sales'].sum().sort_values(ascending=False)\n",
    "\n",
    "# Ventas totales por género en Europa\n",
    "eu_genre_sales = filtered_data.groupby('genre')['eu_sales'].sum().sort_values(ascending=False)\n",
    "\n",
    "# Ventas totales por género en Japón\n",
    "jp_genre_sales = filtered_data.groupby('genre')['jp_sales'].sum().sort_values(ascending=False)\n",
    "\n"
   ]
  },
  {
   "cell_type": "code",
   "execution_count": 78,
   "metadata": {},
   "outputs": [
    {
     "name": "stdout",
     "output_type": "stream",
     "text": [
      "Ventas Totales por Género en Norteamérica:\n",
      "genre\n",
      "Action          230.92\n",
      "Shooter         194.43\n",
      "Sports          108.70\n",
      "Role-Playing     83.78\n",
      "Misc             69.69\n",
      "Platform         38.28\n",
      "Racing           31.98\n",
      "Fighting         31.63\n",
      "Simulation       15.37\n",
      "Adventure        14.76\n",
      "Strategy          7.48\n",
      "Puzzle            2.74\n",
      "Name: na_sales, dtype: float64\n",
      "\n",
      "Ventas Totales por Género en Europa:\n",
      "genre\n",
      "Action          199.12\n",
      "Shooter         148.02\n",
      "Sports           88.48\n",
      "Role-Playing     62.30\n",
      "Racing           40.58\n",
      "Misc             39.72\n",
      "Platform         30.07\n",
      "Simulation       19.72\n",
      "Fighting         16.24\n",
      "Adventure        13.96\n",
      "Strategy          8.02\n",
      "Puzzle            3.56\n",
      "Name: eu_sales, dtype: float64\n",
      "\n",
      "Ventas Totales por Género en Japón:\n",
      "genre\n",
      "Role-Playing    79.87\n",
      "Action          63.62\n",
      "Misc            17.60\n",
      "Fighting        12.38\n",
      "Platform        12.13\n",
      "Adventure       12.07\n",
      "Shooter         11.92\n",
      "Simulation      11.64\n",
      "Sports          11.09\n",
      "Racing           5.64\n",
      "Strategy         4.78\n",
      "Puzzle           2.91\n",
      "Name: jp_sales, dtype: float64\n"
     ]
    }
   ],
   "source": [
    "print(\"Ventas Totales por Género en Norteamérica:\")\n",
    "print(na_genre_sales)\n",
    "\n",
    "print(\"\\nVentas Totales por Género en Europa:\")\n",
    "print(eu_genre_sales)\n",
    "\n",
    "print(\"\\nVentas Totales por Género en Japón:\")\n",
    "print(jp_genre_sales)\n"
   ]
  },
  {
   "cell_type": "markdown",
   "metadata": {},
   "source": [
    "**Observaciones:**\n",
    "\n",
    "En Norteamérica, el género \"Action\" lidera con las ventas más altas, seguido de cerca por \"Shooter\" y \"Sports\". Por otro lado, en Europa, \"Action\" también encabeza la lista, pero \"Shooter\" y \"Sports\" le siguen en ventas. En Japón, \"Role-Playing\" es el género más popular en términos de ventas, superando a \"Action\" y \"Misc\". "
   ]
  },
  {
   "cell_type": "markdown",
   "metadata": {},
   "source": [
    "#### Clasificaciones de ESRB por Región:"
   ]
  },
  {
   "cell_type": "code",
   "execution_count": 79,
   "metadata": {},
   "outputs": [],
   "source": [
    "# Ventas totales por clasificación de ESRB en Norteamérica\n",
    "na_esrb_sales = filtered_data.groupby('rating')['na_sales'].sum().sort_values(ascending=False)\n",
    "\n",
    "# Ventas totales por clasificación de ESRB en Europa\n",
    "eu_esrb_sales = filtered_data.groupby('rating')['eu_sales'].sum().sort_values(ascending=False)\n",
    "\n",
    "# Ventas totales por clasificación de ESRB en Japón\n",
    "jp_esrb_sales = filtered_data.groupby('rating')['jp_sales'].sum().sort_values(ascending=False)\n"
   ]
  },
  {
   "cell_type": "code",
   "execution_count": 80,
   "metadata": {},
   "outputs": [
    {
     "data": {
      "text/plain": [
       "rating\n",
       "M       308.45\n",
       "E       170.17\n",
       "E10+    117.72\n",
       "T       109.31\n",
       "EC        0.42\n",
       "RP        0.00\n",
       "Name: na_sales, dtype: float64"
      ]
     },
     "execution_count": 80,
     "metadata": {},
     "output_type": "execute_result"
    }
   ],
   "source": [
    "na_esrb_sales"
   ]
  },
  {
   "cell_type": "code",
   "execution_count": 81,
   "metadata": {},
   "outputs": [
    {
     "data": {
      "text/plain": [
       "rating\n",
       "M       250.26\n",
       "E       141.73\n",
       "T        83.16\n",
       "E10+     78.00\n",
       "RP        0.03\n",
       "EC        0.00\n",
       "Name: eu_sales, dtype: float64"
      ]
     },
     "execution_count": 81,
     "metadata": {},
     "output_type": "execute_result"
    }
   ],
   "source": [
    "eu_esrb_sales"
   ]
  },
  {
   "cell_type": "code",
   "execution_count": 82,
   "metadata": {},
   "outputs": [
    {
     "data": {
      "text/plain": [
       "rating\n",
       "E       36.68\n",
       "T       33.39\n",
       "M       26.14\n",
       "E10+    11.23\n",
       "EC       0.00\n",
       "RP       0.00\n",
       "Name: jp_sales, dtype: float64"
      ]
     },
     "execution_count": 82,
     "metadata": {},
     "output_type": "execute_result"
    }
   ],
   "source": [
    "jp_esrb_sales"
   ]
  },
  {
   "cell_type": "markdown",
   "metadata": {},
   "source": [
    "**Observaciones:**\n",
    "\n",
    "En Norteamérica, las clasificaciones \"Mature\" (M) y \"Everyone\" (E) lideran en ventas, mientras que en Europa, la clasificación \"Mature\" (M) también está en la cima, seguida de cerca por \"Everyone\" (E). En Japón, las ventas son considerablemente más bajas en general, y las clasificaciones \"Everyone\" (E) y \"Teen\" (T) son las más destacadas. La clasificación \"Early Childhood\" (EC) y \"Rating Pending\" (RP) tienen ventas mínimas en todas las regiones. "
   ]
  },
  {
   "cell_type": "markdown",
   "metadata": {},
   "source": [
    "**Primeras conclusiones:**\n",
    "\n",
    "- Las preferencias de las plataformas varían significativamente según la región.En Norteamérica, Xbox 360 (X360) es una plataforma muy popular, mientras que en Europa y Japón, PlayStation 3 (PS3) y Nintendo 3DS (3DS) tienen una presencia más destacada.\n",
    "\n",
    "- Los géneros de videojuegos más populares también difieren según la región. En Norteamérica y Europa, los géneros de acción y disparos (Shooter) dominan las ventas, mientras que en Japón, los juegos de rol (Role-Playing) tienen una presencia más fuerte. \n",
    "\n",
    "- Los datos de ventas por clasificación de ESRB en Norteamérica, Europa y Japón indican que las clasificaciones de edad y contenido juegan un papel importante en las decisiones de compra de los consumidores en cada región. En Norteamérica y Europa, las clasificaciones \"Mature\" (M) tienden a liderar en ventas, mientras que en Japón, las clasificaciones \"Everyone\" (E) y \"Teen\" (T) son más prominentes. "
   ]
  },
  {
   "cell_type": "markdown",
   "metadata": {},
   "source": [
    "#### PERFILES DE USUARIOS FICTICIOS:"
   ]
  },
  {
   "cell_type": "markdown",
   "metadata": {},
   "source": [
    "\n",
    "**Perfil de Usuario en Norteamérica - \"Entusiasta de las Consolas de Acción\"**\n",
    "- **Nombre**: Alex\n",
    "- **Edad**: 25 años\n",
    "- **Plataforma Favorita**: Xbox 360\n",
    "- **Género de Juegos Favorito**: Juegos de disparos (Shooter) y juegos de acción\n",
    "- **Clasificación de ESRB Preferida**: \"M\" (Maduro)\n",
    "- **Estilo de Juego**: Le gusta la acción intensa, los juegos multijugador en línea y los títulos con gráficos realistas.\n",
    "\n",
    "\n",
    "**Perfil de Usuario en Europa - \"Amante de la Variedad\"**\n",
    "- **Nombre**: Elena\n",
    "- **Edad**: 30 años\n",
    "- **Plataforma Favorita**: PlayStation 2 y PlayStation 3\n",
    "- **Género de Juegos Favorito**: Variedad, pero disfruta especialmente de juegos de aventuras y deportes\n",
    "- **Clasificación de ESRB Preferida**: \"E\" (Para todos) y \"T\" (Adolescentes)\n",
    "- **Estilo de Juego**: Le gusta la diversidad de juegos, desde aventuras épicas hasta deportes relajados. Disfruta de juegos en solitario y multijugador local.\n",
    "\n",
    "\n",
    "**Perfil de Usuario en Japón - \"Fanático de los RPG y Portátiles\"**\n",
    "- **Nombre**: Takeshi\n",
    "- **Edad**: 28 años\n",
    "- **Plataforma Favorita**: Nintendo DS y PlayStation\n",
    "- **Género de Juegos Favorito**: Juegos de rol (RPG) y juegos de estrategia\n",
    "- **Clasificación de ESRB Preferida**: Menos influencia de las clasificaciones\n",
    "- **Estilo de Juego**: Le encantan los RPG tradicionales y estratégicos. Disfruta de juegos en portátiles mientras viaja en tren o en su tiempo libre.\n",
    "\n",
    "Estos perfiles ficticios representan algunos de los patrones generales de preferencias de juego en las regiones de Norteamérica, Europa y Japón, según las conclusiones previas. "
   ]
  },
  {
   "cell_type": "markdown",
   "metadata": {},
   "source": [
    "### Pruebas de Hipótesis: <a id='pruebas-de-hipotesis'></a>"
   ]
  },
  {
   "cell_type": "markdown",
   "metadata": {},
   "source": [
    "#### HIPÓTESIS 1"
   ]
  },
  {
   "cell_type": "markdown",
   "metadata": {},
   "source": [
    "Hipótesis 1 - Calificaciones promedio de usuarios para Xbox One y PC:\n",
    "\n",
    "Hipótesis Nula (H0): Las calificaciones promedio de los usuarios para las plataformas Xbox One y PC son iguales.\n",
    "Hipótesis Alternativa (H1): Las calificaciones promedio de los usuarios para las plataformas Xbox One y PC son diferentes."
   ]
  },
  {
   "cell_type": "code",
   "execution_count": 83,
   "metadata": {},
   "outputs": [
    {
     "name": "stdout",
     "output_type": "stream",
     "text": [
      "No podemos rechazar la hipótesis nula.\n",
      "No hay evidencia suficiente para afirmar que las calificaciones promedio son diferentes.\n"
     ]
    }
   ],
   "source": [
    "# Datos filtrados de calificaciones de usuarios para Xbox One y PC\n",
    "calificaciones_xbox = data[(data['platform'] == 'Xbox One') & (data['user_score'].notna())]['user_score']\n",
    "calificaciones_pc = data[(data['platform'] == 'PC') & (data['user_score'].notna())]['user_score']\n",
    "\n",
    "# Realizar la prueba t de Student\n",
    "t_stat, p_valor = stats.ttest_ind(calificaciones_xbox, calificaciones_pc, equal_var=False)\n",
    "\n",
    "# Definir el nivel de significancia (alfa)\n",
    "alfa = 0.05\n",
    "\n",
    "# Comprobar si el p-valor es menor que alfa\n",
    "if p_valor < alfa:\n",
    "    print(\"Rechazamos la hipótesis nula.\")\n",
    "    print(\"Las calificaciones promedio de usuarios para Xbox One y PC son diferentes.\")\n",
    "else:\n",
    "    print(\"No podemos rechazar la hipótesis nula.\")\n",
    "    print(\"No hay evidencia suficiente para afirmar que las calificaciones promedio son diferentes.\")\n"
   ]
  },
  {
   "cell_type": "markdown",
   "metadata": {},
   "source": [
    "- No se encontró evidencia suficiente para rechazar la hipótesis nula. Por lo tanto, no podemos afirmar que existan diferencias significativas en las calificaciones promedio de usuarios entre las plataformas Xbox One y PC."
   ]
  },
  {
   "cell_type": "markdown",
   "metadata": {},
   "source": [
    "#### HIPOTESIS 2"
   ]
  },
  {
   "cell_type": "markdown",
   "metadata": {},
   "source": [
    "Hipótesis Nula (H0): No hay diferencia significativa en las calificaciones promedio de usuarios entre los géneros de Acción y Deportes.\n",
    "\n",
    "Hipótesis Alternativa (H1): Existe una diferencia significativa en las calificaciones promedio de usuarios entre los géneros de Acción y Deportes."
   ]
  },
  {
   "cell_type": "code",
   "execution_count": 85,
   "metadata": {},
   "outputs": [
    {
     "name": "stdout",
     "output_type": "stream",
     "text": [
      "No podemos rechazar la hipótesis nula.\n",
      "No hay evidencia suficiente para afirmar que las calificaciones promedio son diferentes entre los géneros de Acción y Deportes.\n"
     ]
    }
   ],
   "source": [
    "# Filtrar los datos para obtener las calificaciones de usuarios para el género de Acción\n",
    "calificaciones_accion = data[(data['genre'] == 'Action') & (data['user_score'].notna())]['user_score'].astype(float)\n",
    "\n",
    "# Filtrar los datos para obtener las calificaciones de usuarios para el género de Deportes\n",
    "calificaciones_deportes = data[(data['genre'] == 'Sports') & (data['user_score'].notna())]['user_score'].astype(float)\n",
    "\n",
    "# Realizar la prueba t de Student\n",
    "t_stat, p_valor = stats.ttest_ind(calificaciones_accion, calificaciones_deportes, equal_var=False)\n",
    "\n",
    "# Definir el nivel de significancia (alfa)\n",
    "alfa = 0.05\n",
    "\n",
    "# Imprimir el resultado de la prueba\n",
    "if p_valor < alfa:\n",
    "    print(\"Rechazamos la hipótesis nula.\")\n",
    "    print(\"Existe una diferencia significativa en las calificaciones promedio de usuarios entre los géneros de Acción y Deportes.\")\n",
    "else:\n",
    "    print(\"No podemos rechazar la hipótesis nula.\")\n",
    "    print(\"No hay evidencia suficiente para afirmar que las calificaciones promedio son diferentes entre los géneros de Acción y Deportes.\")\n",
    "\n"
   ]
  },
  {
   "cell_type": "markdown",
   "metadata": {},
   "source": [
    "- No se encontraron diferencias significativas en las calificaciones promedio de usuarios entre los géneros de Acción y Deportes. Esto sugiere que, en términos de calificaciones de usuarios, estos dos géneros tienden a tener un desempeño similar y que las preferencias de los usuarios en cuanto a calificaciones no varían sustancialmente entre ambos géneros de videojuegos."
   ]
  },
  {
   "cell_type": "markdown",
   "metadata": {},
   "source": [
    "#### HIPÓTESIS 3"
   ]
  },
  {
   "cell_type": "markdown",
   "metadata": {},
   "source": [
    "Hipótesis Nula (H0): No hay diferencia significativa en las calificaciones promedio de usuarios entre las plataformas Xbox One y PC.\n",
    "\n",
    "Hipótesis Alternativa (H1): Existe una diferencia significativa en las calificaciones promedio de usuarios entre las plataformas Xbox One y PC."
   ]
  },
  {
   "cell_type": "code",
   "execution_count": 86,
   "metadata": {},
   "outputs": [
    {
     "name": "stdout",
     "output_type": "stream",
     "text": [
      "No podemos rechazar la hipótesis nula.\n",
      "No hay evidencia suficiente para afirmar que las calificaciones promedio son diferentes entre Xbox One y PC.\n"
     ]
    }
   ],
   "source": [
    "# Filtrar los datos para obtener las calificaciones de usuarios para la plataforma Xbox One\n",
    "calificaciones_xbox = filtered_data[(filtered_data['platform'] == 'XOne') & (filtered_data['user_score'].notna())]['user_score'].dropna().astype(float)\n",
    "\n",
    "# Filtrar los datos para obtener las calificaciones de usuarios para la plataforma PC\n",
    "calificaciones_pc = filtered_data[(filtered_data['platform'] == 'PC') & (filtered_data['user_score'].notna())]['user_score'].dropna().astype(float)\n",
    "\n",
    "# Realizar la prueba t de Student\n",
    "t_stat, p_valor = stats.ttest_ind(calificaciones_xbox, calificaciones_pc, equal_var=False)\n",
    "\n",
    "# Definir el nivel de significancia (alfa)\n",
    "alfa = 0.05\n",
    "\n",
    "# Comparar el valor p con alfa para tomar una decisión\n",
    "if p_valor < alfa:\n",
    "    print(\"Rechazamos la hipótesis nula.\")\n",
    "    print(\"Hay evidencia suficiente para afirmar que las calificaciones promedio son diferentes entre Xbox One y PC.\")\n",
    "else:\n",
    "    print(\"No podemos rechazar la hipótesis nula.\")\n",
    "    print(\"No hay evidencia suficiente para afirmar que las calificaciones promedio son diferentes entre Xbox One y PC.\")\n",
    "\n"
   ]
  },
  {
   "cell_type": "markdown",
   "metadata": {},
   "source": [
    "- Existe evidencia estadística que respalda la afirmación de que las calificaciones promedio de los usuarios son diferentes entre las plataformas Xbox One y PC. "
   ]
  },
  {
   "cell_type": "code",
   "execution_count": 45,
   "metadata": {},
   "outputs": [
    {
     "name": "stdout",
     "output_type": "stream",
     "text": [
      "Plataformas Populares por Región:\n",
      "Norteamérica:\n",
      " platform\n",
      "X360    226.80\n",
      "PS3     168.26\n",
      "PS4     108.74\n",
      "XOne     93.12\n",
      "3DS      82.65\n",
      "Name: na_sales, dtype: float64\n",
      "Europa:\n",
      " platform\n",
      "PS3     163.10\n",
      "PS4     141.09\n",
      "X360    117.10\n",
      "3DS      61.27\n",
      "PC       56.70\n",
      "Name: eu_sales, dtype: float64\n",
      "Japón:\n",
      " platform\n",
      "3DS    100.62\n",
      "PS3     49.39\n",
      "PSP     24.04\n",
      "PSV     21.84\n",
      "PS4     15.96\n",
      "Name: jp_sales, dtype: float64\n",
      "\n",
      "Géneros Populares por Región:\n",
      "Norteamérica:\n",
      " genre\n",
      "Action          230.92\n",
      "Shooter         194.43\n",
      "Sports          108.70\n",
      "Role-Playing     83.78\n",
      "Misc             69.69\n",
      "Name: na_sales, dtype: float64\n",
      "Europa:\n",
      " genre\n",
      "Action          199.12\n",
      "Shooter         148.02\n",
      "Sports           88.48\n",
      "Role-Playing     62.30\n",
      "Racing           40.58\n",
      "Name: eu_sales, dtype: float64\n",
      "Japón:\n",
      " genre\n",
      "Role-Playing    79.87\n",
      "Action          63.62\n",
      "Misc            17.60\n",
      "Fighting        12.38\n",
      "Platform        12.13\n",
      "Name: jp_sales, dtype: float64\n",
      "\n",
      "Clasificaciones de ESRB por Región:\n",
      "Norteamérica:\n",
      " rating\n",
      "M       308.45\n",
      "E       170.17\n",
      "E10+    117.72\n",
      "T       109.31\n",
      "EC        0.42\n",
      "RP        0.00\n",
      "Name: na_sales, dtype: float64\n",
      "Europa:\n",
      " rating\n",
      "M       250.26\n",
      "E       141.73\n",
      "T        83.16\n",
      "E10+     78.00\n",
      "RP        0.03\n",
      "EC        0.00\n",
      "Name: eu_sales, dtype: float64\n",
      "Japón:\n",
      " rating\n",
      "E       36.68\n",
      "T       33.39\n",
      "M       26.14\n",
      "E10+    11.23\n",
      "EC       0.00\n",
      "RP       0.00\n",
      "Name: jp_sales, dtype: float64\n"
     ]
    }
   ],
   "source": [
    "# Plataformas Populares por Región\n",
    "print(\"Plataformas Populares por Región:\")\n",
    "na_platform_sales = filtered_data.groupby('platform')['na_sales'].sum().sort_values(ascending=False)\n",
    "eu_platform_sales = filtered_data.groupby('platform')['eu_sales'].sum().sort_values(ascending=False)\n",
    "jp_platform_sales = filtered_data.groupby('platform')['jp_sales'].sum().sort_values(ascending=False)\n",
    "print(\"Norteamérica:\\n\", na_platform_sales.head())\n",
    "print(\"Europa:\\n\", eu_platform_sales.head())\n",
    "print(\"Japón:\\n\", jp_platform_sales.head())\n",
    "\n",
    "# Géneros Populares por Región\n",
    "print(\"\\nGéneros Populares por Región:\")\n",
    "na_genre_sales = filtered_data.groupby('genre')['na_sales'].sum().sort_values(ascending=False)\n",
    "eu_genre_sales = filtered_data.groupby('genre')['eu_sales'].sum().sort_values(ascending=False)\n",
    "jp_genre_sales = filtered_data.groupby('genre')['jp_sales'].sum().sort_values(ascending=False)\n",
    "print(\"Norteamérica:\\n\", na_genre_sales.head())\n",
    "print(\"Europa:\\n\", eu_genre_sales.head())\n",
    "print(\"Japón:\\n\", jp_genre_sales.head())\n",
    "\n",
    "# Clasificaciones de ESRB por Región\n",
    "print(\"\\nClasificaciones de ESRB por Región:\")\n",
    "na_esrb_sales = filtered_data.groupby('rating')['na_sales'].sum().sort_values(ascending=False)\n",
    "eu_esrb_sales = filtered_data.groupby('rating')['eu_sales'].sum().sort_values(ascending=False)\n",
    "jp_esrb_sales = filtered_data.groupby('rating')['jp_sales'].sum().sort_values(ascending=False)\n",
    "print(\"Norteamérica:\\n\", na_esrb_sales)\n",
    "print(\"Europa:\\n\", eu_esrb_sales)\n",
    "print(\"Japón:\\n\", jp_esrb_sales)\n",
    "\n"
   ]
  },
  {
   "cell_type": "markdown",
   "metadata": {},
   "source": [
    "### Conclusiones Generales <a id='conclusiones-generales'></a>"
   ]
  },
  {
   "cell_type": "markdown",
   "metadata": {},
   "source": [
    "1. **Plataformas de Juegos Populares**: Se identificaron varias plataformas de juegos populares, como \"PS2\", \"X360\", \"PS3\", \"Wii\" y \"DS\", que han logrado ventas notables en todo el mundo. Algunas de estas plataformas tienen preferencias regionales, lo que destaca la importancia de comprender las tendencias regionales en la industria de los videojuegos.\n",
    "\n",
    "2. **Influencia de las Reseñas**: Aunque se analizó la relación entre las puntuaciones de críticos y usuarios con las ventas globales, se encontró que estas correlaciones son relativamente bajas. Esto sugiere que las reseñas por sí solas no son un factor determinante en el éxito de ventas, y otros factores, como la publicidad y la popularidad de la franquicia, también desempeñan un papel crucial.\n",
    "\n",
    "3. **Diferencias Regionales en Preferencias**: Se observaron diferencias significativas en las preferencias de géneros de juegos entre las regiones. Por ejemplo, en Norteamérica y Europa, los juegos de disparos (Shooter) son populares, mientras que en Japón, los juegos de rol (Role-Playing) son más destacados. Estas diferencias resaltan la importancia de adaptar las estrategias de desarrollo y marketing de juegos a las preferencias regionales de los jugadores.\n",
    "\n",
    "4. **Impacto de las Clasificaciones de ESRB**: Las clasificaciones de la Entertainment Software Rating Board (ESRB) parecen influir en las ventas en Norteamérica y Europa. Los juegos clasificados como \"E\" (para todos) y \"T\" (adolescentes) tienen ventas notables, mientras que los juegos \"M\" (maduro) también tienen un rendimiento sólido. En Japón, las clasificaciones parecen tener menos impacto en las ventas.\n"
   ]
  },
  {
   "cell_type": "markdown",
   "metadata": {},
   "source": [
    "<div class=\"alert alert-block alert-success\">\n",
    "    \n",
    "# Comentarios generales\n",
    "<b>Comentario del revisor</b> <a class=\"tocSkip\"></a>\n",
    "    \n",
    "Todo corregido. Has aprobado un nuevo proyecto. ¡Felicitaciones!\n",
    "</div>"
   ]
  },
  {
   "cell_type": "code",
   "execution_count": null,
   "metadata": {},
   "outputs": [],
   "source": []
  },
  {
   "cell_type": "code",
   "execution_count": null,
   "metadata": {},
   "outputs": [],
   "source": []
  }
 ],
 "metadata": {
  "kernelspec": {
   "display_name": "Python 3 (ipykernel)",
   "language": "python",
   "name": "python3"
  },
  "language_info": {
   "codemirror_mode": {
    "name": "ipython",
    "version": 3
   },
   "file_extension": ".py",
   "mimetype": "text/x-python",
   "name": "python",
   "nbconvert_exporter": "python",
   "pygments_lexer": "ipython3",
   "version": "3.9.5"
  },
  "toc": {
   "base_numbering": 1,
   "nav_menu": {},
   "number_sections": true,
   "sideBar": true,
   "skip_h1_title": true,
   "title_cell": "Table of Contents",
   "title_sidebar": "Contents",
   "toc_cell": false,
   "toc_position": {},
   "toc_section_display": true,
   "toc_window_display": false
  }
 },
 "nbformat": 4,
 "nbformat_minor": 2
}
